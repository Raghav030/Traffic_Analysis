{
  "cells": [
    {
      "cell_type": "code",
      "execution_count": null,
      "metadata": {
        "id": "U1xrjNLtROCK"
      },
      "outputs": [],
      "source": [
        "# from google.colab import files\n",
        "# uploaded= files.upload()"
      ]
    },
    {
      "cell_type": "code",
      "execution_count": null,
      "metadata": {
        "colab": {
          "base_uri": "https://localhost:8080/"
        },
        "id": "nFANhF2sthGQ",
        "outputId": "eae79edb-b5f2-4923-bcd3-2976c1a287a4"
      },
      "outputs": [
        {
          "output_type": "stream",
          "name": "stdout",
          "text": [
            "Drive already mounted at /content/drive; to attempt to forcibly remount, call drive.mount(\"/content/drive\", force_remount=True).\n"
          ]
        }
      ],
      "source": [
        "from google.colab import drive\n",
        "drive.mount('/content/drive')"
      ]
    },
    {
      "cell_type": "code",
      "execution_count": null,
      "metadata": {
        "colab": {
          "base_uri": "https://localhost:8080/"
        },
        "id": "DMAdKBL2dm2X",
        "outputId": "3850f317-b8e3-491f-8bc9-99e427e9067e"
      },
      "outputs": [
        {
          "output_type": "stream",
          "name": "stdout",
          "text": [
            "61bb445ab605497121d0b77c.csv\n",
            "61bb445ab605497121d0b77c_model_info.csv\n"
          ]
        }
      ],
      "source": [
        "import zipfile\n",
        "\n",
        "# with zipfile.ZipFile('intersectiond.zip', 'r') as zip_ref:\n",
        "with zipfile.ZipFile('/content/drive/MyDrive/intersectiond.zip', 'r') as zip_ref:\n",
        "    zip_ref.extractall('inter1')\n",
        "    file_names = zip_ref.namelist()\n",
        "    for file_name in file_names:\n",
        "        print(file_name)"
      ]
    },
    {
      "cell_type": "code",
      "execution_count": null,
      "metadata": {
        "colab": {
          "base_uri": "https://localhost:8080/"
        },
        "id": "DG6-6sAShcIG",
        "outputId": "74610ef9-dc68-4e9e-c1ff-6b2a4261c27c"
      },
      "outputs": [
        {
          "output_type": "stream",
          "name": "stderr",
          "text": [
            "<ipython-input-122-270ffa298f4e>:4: FutureWarning: The error_bad_lines argument has been deprecated and will be removed in a future version. Use on_bad_lines in the future.\n",
            "\n",
            "\n",
            "  df2=pd.read_csv('inter1/61bb445ab605497121d0b77c_model_info.csv',usecols=range(4), error_bad_lines=False)\n"
          ]
        }
      ],
      "source": [
        "# file_path= f\"inter1/61bb445ab605497121d0b77c_model_info.csv\"\n",
        "import pandas as pd\n",
        "df1=pd.read_csv('inter1/61bb445ab605497121d0b77c.csv')\n",
        "df2=pd.read_csv('inter1/61bb445ab605497121d0b77c_model_info.csv',usecols=range(4), error_bad_lines=False)\n",
        "df1.reset_index(inplace=True)"
      ]
    },
    {
      "cell_type": "code",
      "execution_count": null,
      "metadata": {
        "id": "mdaZb7_fuidO"
      },
      "outputs": [],
      "source": [
        "df1.columns = df1.columns[19:].to_list() + df1.columns[:19].to_list()"
      ]
    },
    {
      "cell_type": "code",
      "execution_count": null,
      "metadata": {
        "colab": {
          "base_uri": "https://localhost:8080/"
        },
        "id": "A9bIfcTPu-zb",
        "outputId": "8a6b99d5-0a77-4dde-f547-1161fbd208db"
      },
      "outputs": [
        {
          "output_type": "execute_result",
          "data": {
            "text/plain": [
              "Index(['timestamp', 'id', 'travelTimeSec', 'freeFlowTravelTimeSec', 'delaySec',\n",
              "       'usualDelaySec', 'stops', 'queueLengthMeters', 'volumePerHour',\n",
              "       'exitIndex', 'ratioPercent', 'probesCount', 'level_0', 'level_1',\n",
              "       'level_2', 'level_3', 'level_4', 'level_5', 'level_6', 'level_7',\n",
              "       'level_8', 'level_9', 'level_10', 'level_11', 'level_12', 'level_13',\n",
              "       'level_14', 'level_15', 'level_16', 'level_17', 'level_18'],\n",
              "      dtype='object')"
            ]
          },
          "metadata": {},
          "execution_count": 124
        }
      ],
      "source": [
        "df1.columns"
      ]
    },
    {
      "cell_type": "code",
      "execution_count": null,
      "metadata": {
        "id": "0sNbpwk5t6pg"
      },
      "outputs": [],
      "source": [
        "print(df1.shape)\n",
        "df1"
      ]
    },
    {
      "cell_type": "code",
      "execution_count": null,
      "metadata": {
        "id": "_kISq5GMuGPV"
      },
      "outputs": [],
      "source": [
        "print(df2.shape)\n",
        "df2"
      ]
    },
    {
      "cell_type": "code",
      "execution_count": null,
      "metadata": {
        "colab": {
          "base_uri": "https://localhost:8080/"
        },
        "id": "uN4HuP5wtGGY",
        "outputId": "358b7dfe-5231-4ddf-a625-4c74748d8d23"
      },
      "outputs": [
        {
          "output_type": "stream",
          "name": "stdout",
          "text": [
            "5     398264603\n",
            "6    -626246670\n",
            "7     593057788\n",
            "8    1936751403\n",
            "9    1220266539\n",
            "Name: name, dtype: object\n",
            "5\n"
          ]
        }
      ],
      "source": [
        "address= df2.iloc[5:10,0]\n",
        "print (address) # addresses of entry road\n",
        "print (len(address))"
      ]
    },
    {
      "cell_type": "code",
      "execution_count": null,
      "metadata": {
        "colab": {
          "base_uri": "https://localhost:8080/"
        },
        "id": "8NFf8S37Ce6A",
        "outputId": "8d8e6a15-8996-42d6-a85f-c283169662d2"
      },
      "outputs": [
        {
          "output_type": "execute_result",
          "data": {
            "text/plain": [
              "0   2021-12-16 22:56:26\n",
              "1   2021-12-16 22:56:26\n",
              "2   2021-12-16 22:56:26\n",
              "3   2021-12-16 22:56:26\n",
              "4   2021-12-16 22:57:24\n",
              "Name: timestamp, dtype: datetime64[ns]"
            ]
          },
          "metadata": {},
          "execution_count": 128
        }
      ],
      "source": [
        "df1['timestamp'] = pd.to_datetime(df1['timestamp'])\n",
        "start_time = pd.to_datetime('17-12-2021 09:00', format='%d-%m-%Y %H:%M')\n",
        "end_time = pd.to_datetime('17-12-2021 09:59', format='%d-%m-%Y %H:%M')\n",
        "start_time\n",
        "df1['timestamp'][:5]"
      ]
    },
    {
      "cell_type": "code",
      "execution_count": null,
      "metadata": {
        "id": "YYe6W038D9kd"
      },
      "outputs": [],
      "source": [
        "filtered_data= df1[(df1['timestamp']>=start_time) & (df1['timestamp']<=end_time)]\n",
        "filtered_data"
      ]
    },
    {
      "cell_type": "code",
      "execution_count": null,
      "metadata": {
        "id": "lj07pLwfMce0"
      },
      "outputs": [],
      "source": [
        "filter=filtered_data[(filtered_data['id']==1220266539)]\n",
        "filter.iloc[:, 8:]"
      ]
    },
    {
      "cell_type": "code",
      "execution_count": null,
      "metadata": {
        "colab": {
          "base_uri": "https://localhost:8080/"
        },
        "id": "BtWoYbs-UPdY",
        "outputId": "6920c7b6-53d2-448d-bb10-3364c785a2b6"
      },
      "outputs": [
        {
          "output_type": "execute_result",
          "data": {
            "text/plain": [
              "11"
            ]
          },
          "metadata": {},
          "execution_count": 131
        }
      ],
      "source": [
        "column_name = \"probesCount\"\n",
        "columns=df1.columns\n",
        "column_index = columns.get_loc(column_name)\n",
        "column_index"
      ]
    },
    {
      "cell_type": "code",
      "execution_count": null,
      "metadata": {
        "colab": {
          "base_uri": "https://localhost:8080/",
          "height": 305
        },
        "id": "jrv41hAuU5zU",
        "outputId": "d300eb32-f042-44de-c51e-5c11b9df0d42"
      },
      "outputs": [
        {
          "output_type": "stream",
          "name": "stderr",
          "text": [
            "<ipython-input-132-72cd0ead696a>:4: FutureWarning: The default value of numeric_only in DataFrameGroupBy.sum is deprecated. In a future version, numeric_only will default to False. Either specify numeric_only or select only columns which should be valid for the function.\n",
            "  total= filtered_data.groupby('id').sum()\n"
          ]
        },
        {
          "output_type": "execute_result",
          "data": {
            "text/plain": [
              "             travelTimeSec  freeFlowTravelTimeSec  delaySec  usualDelaySec  \\\n",
              "id                                                                           \n",
              "-626246670            2531                   1062      1469           1818   \n",
              " 593057788            1708                   1180       528            756   \n",
              " 800440149            2499                   1652       847           1344   \n",
              " 1220266539           3915                   1475      2440           1953   \n",
              "\n",
              "                stops  queueLengthMeters  volumePerHour  exitIndex  \\\n",
              "id                                                                   \n",
              "-626246670   1.334204            3933.98              0        0.0   \n",
              " 593057788   0.000000            1705.46              0        0.0   \n",
              " 800440149   1.636822            2448.14              0        0.0   \n",
              " 1220266539  0.769643            5797.07              0        0.0   \n",
              "\n",
              "             ratioPercent  probesCount  level_0  level_1  level_2  level_3  \\\n",
              "id                                                                           \n",
              "-626246670            0.0          0.0     47.0    640.0    154.0      0.0   \n",
              " 593057788            0.0          0.0     59.0   3826.0    800.0      0.0   \n",
              " 800440149            0.0          0.0     27.0    112.0     27.0     56.0   \n",
              " 1220266539           0.0          0.0     59.0   1966.0    539.0      0.0   \n",
              "\n",
              "             level_4  level_5  level_6  level_7  level_8  level_9  level_10  \\\n",
              "id                                                                            \n",
              "-626246670       0.0      0.0      6.0      8.0      2.0    236.0    1896.0   \n",
              " 593057788       0.0      0.0    177.0    644.0    133.0      0.0       0.0   \n",
              " 800440149     130.0     28.0    162.0    782.0    178.0    236.0    2716.0   \n",
              " 1220266539      0.0      0.0    177.0   3934.0   1088.0      0.0       0.0   \n",
              "\n",
              "             level_11  level_12  level_13  level_14  level_15  level_16  \\\n",
              "id                                                                        \n",
              "-626246670      479.0       0.0       0.0       0.0     354.0    3356.0   \n",
              " 593057788        0.0       0.0       0.0       0.0     354.0    1430.0   \n",
              " 800440149      640.0       0.0       0.0       0.0     354.0    2160.0   \n",
              " 1220266539       0.0       0.0       0.0       0.0       0.0       0.0   \n",
              "\n",
              "             level_17  level_18  \n",
              "id                               \n",
              "-626246670      896.0       0.0  \n",
              " 593057788      284.0       0.0  \n",
              " 800440149      535.0       0.0  \n",
              " 1220266539       0.0       0.0  "
            ],
            "text/html": [
              "\n",
              "  <div id=\"df-5be42afb-188d-4d12-826b-08cfe881f2c1\">\n",
              "    <div class=\"colab-df-container\">\n",
              "      <div>\n",
              "<style scoped>\n",
              "    .dataframe tbody tr th:only-of-type {\n",
              "        vertical-align: middle;\n",
              "    }\n",
              "\n",
              "    .dataframe tbody tr th {\n",
              "        vertical-align: top;\n",
              "    }\n",
              "\n",
              "    .dataframe thead th {\n",
              "        text-align: right;\n",
              "    }\n",
              "</style>\n",
              "<table border=\"1\" class=\"dataframe\">\n",
              "  <thead>\n",
              "    <tr style=\"text-align: right;\">\n",
              "      <th></th>\n",
              "      <th>travelTimeSec</th>\n",
              "      <th>freeFlowTravelTimeSec</th>\n",
              "      <th>delaySec</th>\n",
              "      <th>usualDelaySec</th>\n",
              "      <th>stops</th>\n",
              "      <th>queueLengthMeters</th>\n",
              "      <th>volumePerHour</th>\n",
              "      <th>exitIndex</th>\n",
              "      <th>ratioPercent</th>\n",
              "      <th>probesCount</th>\n",
              "      <th>level_0</th>\n",
              "      <th>level_1</th>\n",
              "      <th>level_2</th>\n",
              "      <th>level_3</th>\n",
              "      <th>level_4</th>\n",
              "      <th>level_5</th>\n",
              "      <th>level_6</th>\n",
              "      <th>level_7</th>\n",
              "      <th>level_8</th>\n",
              "      <th>level_9</th>\n",
              "      <th>level_10</th>\n",
              "      <th>level_11</th>\n",
              "      <th>level_12</th>\n",
              "      <th>level_13</th>\n",
              "      <th>level_14</th>\n",
              "      <th>level_15</th>\n",
              "      <th>level_16</th>\n",
              "      <th>level_17</th>\n",
              "      <th>level_18</th>\n",
              "    </tr>\n",
              "    <tr>\n",
              "      <th>id</th>\n",
              "      <th></th>\n",
              "      <th></th>\n",
              "      <th></th>\n",
              "      <th></th>\n",
              "      <th></th>\n",
              "      <th></th>\n",
              "      <th></th>\n",
              "      <th></th>\n",
              "      <th></th>\n",
              "      <th></th>\n",
              "      <th></th>\n",
              "      <th></th>\n",
              "      <th></th>\n",
              "      <th></th>\n",
              "      <th></th>\n",
              "      <th></th>\n",
              "      <th></th>\n",
              "      <th></th>\n",
              "      <th></th>\n",
              "      <th></th>\n",
              "      <th></th>\n",
              "      <th></th>\n",
              "      <th></th>\n",
              "      <th></th>\n",
              "      <th></th>\n",
              "      <th></th>\n",
              "      <th></th>\n",
              "      <th></th>\n",
              "      <th></th>\n",
              "    </tr>\n",
              "  </thead>\n",
              "  <tbody>\n",
              "    <tr>\n",
              "      <th>-626246670</th>\n",
              "      <td>2531</td>\n",
              "      <td>1062</td>\n",
              "      <td>1469</td>\n",
              "      <td>1818</td>\n",
              "      <td>1.334204</td>\n",
              "      <td>3933.98</td>\n",
              "      <td>0</td>\n",
              "      <td>0.0</td>\n",
              "      <td>0.0</td>\n",
              "      <td>0.0</td>\n",
              "      <td>47.0</td>\n",
              "      <td>640.0</td>\n",
              "      <td>154.0</td>\n",
              "      <td>0.0</td>\n",
              "      <td>0.0</td>\n",
              "      <td>0.0</td>\n",
              "      <td>6.0</td>\n",
              "      <td>8.0</td>\n",
              "      <td>2.0</td>\n",
              "      <td>236.0</td>\n",
              "      <td>1896.0</td>\n",
              "      <td>479.0</td>\n",
              "      <td>0.0</td>\n",
              "      <td>0.0</td>\n",
              "      <td>0.0</td>\n",
              "      <td>354.0</td>\n",
              "      <td>3356.0</td>\n",
              "      <td>896.0</td>\n",
              "      <td>0.0</td>\n",
              "    </tr>\n",
              "    <tr>\n",
              "      <th>593057788</th>\n",
              "      <td>1708</td>\n",
              "      <td>1180</td>\n",
              "      <td>528</td>\n",
              "      <td>756</td>\n",
              "      <td>0.000000</td>\n",
              "      <td>1705.46</td>\n",
              "      <td>0</td>\n",
              "      <td>0.0</td>\n",
              "      <td>0.0</td>\n",
              "      <td>0.0</td>\n",
              "      <td>59.0</td>\n",
              "      <td>3826.0</td>\n",
              "      <td>800.0</td>\n",
              "      <td>0.0</td>\n",
              "      <td>0.0</td>\n",
              "      <td>0.0</td>\n",
              "      <td>177.0</td>\n",
              "      <td>644.0</td>\n",
              "      <td>133.0</td>\n",
              "      <td>0.0</td>\n",
              "      <td>0.0</td>\n",
              "      <td>0.0</td>\n",
              "      <td>0.0</td>\n",
              "      <td>0.0</td>\n",
              "      <td>0.0</td>\n",
              "      <td>354.0</td>\n",
              "      <td>1430.0</td>\n",
              "      <td>284.0</td>\n",
              "      <td>0.0</td>\n",
              "    </tr>\n",
              "    <tr>\n",
              "      <th>800440149</th>\n",
              "      <td>2499</td>\n",
              "      <td>1652</td>\n",
              "      <td>847</td>\n",
              "      <td>1344</td>\n",
              "      <td>1.636822</td>\n",
              "      <td>2448.14</td>\n",
              "      <td>0</td>\n",
              "      <td>0.0</td>\n",
              "      <td>0.0</td>\n",
              "      <td>0.0</td>\n",
              "      <td>27.0</td>\n",
              "      <td>112.0</td>\n",
              "      <td>27.0</td>\n",
              "      <td>56.0</td>\n",
              "      <td>130.0</td>\n",
              "      <td>28.0</td>\n",
              "      <td>162.0</td>\n",
              "      <td>782.0</td>\n",
              "      <td>178.0</td>\n",
              "      <td>236.0</td>\n",
              "      <td>2716.0</td>\n",
              "      <td>640.0</td>\n",
              "      <td>0.0</td>\n",
              "      <td>0.0</td>\n",
              "      <td>0.0</td>\n",
              "      <td>354.0</td>\n",
              "      <td>2160.0</td>\n",
              "      <td>535.0</td>\n",
              "      <td>0.0</td>\n",
              "    </tr>\n",
              "    <tr>\n",
              "      <th>1220266539</th>\n",
              "      <td>3915</td>\n",
              "      <td>1475</td>\n",
              "      <td>2440</td>\n",
              "      <td>1953</td>\n",
              "      <td>0.769643</td>\n",
              "      <td>5797.07</td>\n",
              "      <td>0</td>\n",
              "      <td>0.0</td>\n",
              "      <td>0.0</td>\n",
              "      <td>0.0</td>\n",
              "      <td>59.0</td>\n",
              "      <td>1966.0</td>\n",
              "      <td>539.0</td>\n",
              "      <td>0.0</td>\n",
              "      <td>0.0</td>\n",
              "      <td>0.0</td>\n",
              "      <td>177.0</td>\n",
              "      <td>3934.0</td>\n",
              "      <td>1088.0</td>\n",
              "      <td>0.0</td>\n",
              "      <td>0.0</td>\n",
              "      <td>0.0</td>\n",
              "      <td>0.0</td>\n",
              "      <td>0.0</td>\n",
              "      <td>0.0</td>\n",
              "      <td>0.0</td>\n",
              "      <td>0.0</td>\n",
              "      <td>0.0</td>\n",
              "      <td>0.0</td>\n",
              "    </tr>\n",
              "  </tbody>\n",
              "</table>\n",
              "</div>\n",
              "      <button class=\"colab-df-convert\" onclick=\"convertToInteractive('df-5be42afb-188d-4d12-826b-08cfe881f2c1')\"\n",
              "              title=\"Convert this dataframe to an interactive table.\"\n",
              "              style=\"display:none;\">\n",
              "        \n",
              "  <svg xmlns=\"http://www.w3.org/2000/svg\" height=\"24px\"viewBox=\"0 0 24 24\"\n",
              "       width=\"24px\">\n",
              "    <path d=\"M0 0h24v24H0V0z\" fill=\"none\"/>\n",
              "    <path d=\"M18.56 5.44l.94 2.06.94-2.06 2.06-.94-2.06-.94-.94-2.06-.94 2.06-2.06.94zm-11 1L8.5 8.5l.94-2.06 2.06-.94-2.06-.94L8.5 2.5l-.94 2.06-2.06.94zm10 10l.94 2.06.94-2.06 2.06-.94-2.06-.94-.94-2.06-.94 2.06-2.06.94z\"/><path d=\"M17.41 7.96l-1.37-1.37c-.4-.4-.92-.59-1.43-.59-.52 0-1.04.2-1.43.59L10.3 9.45l-7.72 7.72c-.78.78-.78 2.05 0 2.83L4 21.41c.39.39.9.59 1.41.59.51 0 1.02-.2 1.41-.59l7.78-7.78 2.81-2.81c.8-.78.8-2.07 0-2.86zM5.41 20L4 18.59l7.72-7.72 1.47 1.35L5.41 20z\"/>\n",
              "  </svg>\n",
              "      </button>\n",
              "      \n",
              "  <style>\n",
              "    .colab-df-container {\n",
              "      display:flex;\n",
              "      flex-wrap:wrap;\n",
              "      gap: 12px;\n",
              "    }\n",
              "\n",
              "    .colab-df-convert {\n",
              "      background-color: #E8F0FE;\n",
              "      border: none;\n",
              "      border-radius: 50%;\n",
              "      cursor: pointer;\n",
              "      display: none;\n",
              "      fill: #1967D2;\n",
              "      height: 32px;\n",
              "      padding: 0 0 0 0;\n",
              "      width: 32px;\n",
              "    }\n",
              "\n",
              "    .colab-df-convert:hover {\n",
              "      background-color: #E2EBFA;\n",
              "      box-shadow: 0px 1px 2px rgba(60, 64, 67, 0.3), 0px 1px 3px 1px rgba(60, 64, 67, 0.15);\n",
              "      fill: #174EA6;\n",
              "    }\n",
              "\n",
              "    [theme=dark] .colab-df-convert {\n",
              "      background-color: #3B4455;\n",
              "      fill: #D2E3FC;\n",
              "    }\n",
              "\n",
              "    [theme=dark] .colab-df-convert:hover {\n",
              "      background-color: #434B5C;\n",
              "      box-shadow: 0px 1px 3px 1px rgba(0, 0, 0, 0.15);\n",
              "      filter: drop-shadow(0px 1px 2px rgba(0, 0, 0, 0.3));\n",
              "      fill: #FFFFFF;\n",
              "    }\n",
              "  </style>\n",
              "\n",
              "      <script>\n",
              "        const buttonEl =\n",
              "          document.querySelector('#df-5be42afb-188d-4d12-826b-08cfe881f2c1 button.colab-df-convert');\n",
              "        buttonEl.style.display =\n",
              "          google.colab.kernel.accessAllowed ? 'block' : 'none';\n",
              "\n",
              "        async function convertToInteractive(key) {\n",
              "          const element = document.querySelector('#df-5be42afb-188d-4d12-826b-08cfe881f2c1');\n",
              "          const dataTable =\n",
              "            await google.colab.kernel.invokeFunction('convertToInteractive',\n",
              "                                                     [key], {});\n",
              "          if (!dataTable) return;\n",
              "\n",
              "          const docLinkHtml = 'Like what you see? Visit the ' +\n",
              "            '<a target=\"_blank\" href=https://colab.research.google.com/notebooks/data_table.ipynb>data table notebook</a>'\n",
              "            + ' to learn more about interactive tables.';\n",
              "          element.innerHTML = '';\n",
              "          dataTable['output_type'] = 'display_data';\n",
              "          await google.colab.output.renderOutput(dataTable, element);\n",
              "          const docLink = document.createElement('div');\n",
              "          docLink.innerHTML = docLinkHtml;\n",
              "          element.appendChild(docLink);\n",
              "        }\n",
              "      </script>\n",
              "    </div>\n",
              "  </div>\n",
              "  "
            ]
          },
          "metadata": {},
          "execution_count": 132
        }
      ],
      "source": [
        "id10=0\n",
        "  # if (filtered_data['id']==1220266539):\n",
        "pd.set_option('display.max_columns', None)\n",
        "total= filtered_data.groupby('id').sum()\n",
        "total.iloc[:, :]\n",
        "# filtered_rows=filtered_data[filtered_data['id']==1220266539]\n",
        "# filtered_rows\n",
        "# total = filtered_rows['level_9'].sum()\n",
        "# total\n",
        "# for i in rows:\n",
        "#   if (filtered_data['id']==1220266539):\n",
        "#     id10+=filtered_data['level_9'][i]"
      ]
    },
    {
      "cell_type": "code",
      "source": [
        "total.columns"
      ],
      "metadata": {
        "colab": {
          "base_uri": "https://localhost:8080/"
        },
        "id": "kWIYDIBosp5-",
        "outputId": "21bfd934-2f7b-45bd-d841-bb43a50832fc"
      },
      "execution_count": null,
      "outputs": [
        {
          "output_type": "execute_result",
          "data": {
            "text/plain": [
              "Index(['travelTimeSec', 'freeFlowTravelTimeSec', 'delaySec', 'usualDelaySec',\n",
              "       'stops', 'queueLengthMeters', 'volumePerHour', 'exitIndex',\n",
              "       'ratioPercent', 'probesCount', 'level_0', 'level_1', 'level_2',\n",
              "       'level_3', 'level_4', 'level_5', 'level_6', 'level_7', 'level_8',\n",
              "       'level_9', 'level_10', 'level_11', 'level_12', 'level_13', 'level_14',\n",
              "       'level_15', 'level_16', 'level_17', 'level_18'],\n",
              "      dtype='object')"
            ]
          },
          "metadata": {},
          "execution_count": 133
        }
      ]
    },
    {
      "cell_type": "code",
      "source": [
        "total.shape"
      ],
      "metadata": {
        "id": "TkclfQTmrxnx",
        "colab": {
          "base_uri": "https://localhost:8080/"
        },
        "outputId": "91b3dc71-57e1-447c-cdab-3430a4da39fd"
      },
      "execution_count": null,
      "outputs": [
        {
          "output_type": "execute_result",
          "data": {
            "text/plain": [
              "(4, 29)"
            ]
          },
          "metadata": {},
          "execution_count": 134
        }
      ]
    },
    {
      "cell_type": "code",
      "execution_count": null,
      "metadata": {
        "id": "GJgxgICedh2a"
      },
      "outputs": [],
      "source": [
        "def fvehicleratios(vehicleno, total):\n",
        "  vehicleratio=[]\n",
        "  i=10\n",
        "  colnum=len(total.axes[1])\n",
        "  totalvehicles=0\n",
        "  for i in range (10, colnum, 3):\n",
        "    totalvehicles+=total.iloc[vehicleno,i]\n",
        "  # print(totalvehicles)  \n",
        "  # print(colnum)\n",
        "  for i in range (10, colnum, 3):\n",
        "    vehicleratio.append(total.iloc[vehicleno,i]/totalvehicles*100)\n",
        "  # i+=4\n",
        "  return vehicleratio\n",
        "# print(total[0,10 ])"
      ]
    },
    {
      "cell_type": "code",
      "execution_count": null,
      "metadata": {
        "id": "TPXOh3zNpHZw"
      },
      "outputs": [],
      "source": [
        "df_entry = df2.iloc[3:10, :]\n",
        "df_exit = df2.iloc[12:, :]\n",
        "df_entry.columns = df2.iloc[2]\n",
        "df_exit.columns = df2.iloc[11]\n",
        "df_entry.reset_index(inplace=True)\n",
        "df_exit.reset_index(inplace=True)\n",
        "df_entry = df_entry.iloc[:, 1:]\n",
        "df_exit = df_exit.iloc[:, 1:]"
      ]
    },
    {
      "cell_type": "code",
      "source": [
        "print(df_entry.columns)\n",
        "df_entry"
      ],
      "metadata": {
        "colab": {
          "base_uri": "https://localhost:8080/",
          "height": 286
        },
        "id": "T_y4x0njzKDV",
        "outputId": "50219e14-ef1f-4f58-efc8-f8e8bd86d84b"
      },
      "execution_count": null,
      "outputs": [
        {
          "output_type": "stream",
          "name": "stdout",
          "text": [
            "Index(['id', 'name', 'roadName', 'direction'], dtype='object', name=2)\n"
          ]
        },
        {
          "output_type": "execute_result",
          "data": {
            "text/plain": [
              "2           id                                name                roadName  \\\n",
              "0  -1789082902                          West Bound            Unnamed road   \n",
              "1    800440149        Okhla Estate Marg West Bound       Okhla Estate Marg   \n",
              "2    398264603                          West Bound            Unnamed road   \n",
              "3   -626246670  Shri Maa Anandmai Marg North Bound  Shri Maa Anandmai Marg   \n",
              "4    593057788        Okhla Estate Marg East Bound       Okhla Estate Marg   \n",
              "5   1936751403    Maa Anand Mayee Marg South Bound    Maa Anand Mayee Marg   \n",
              "6   1220266539  Shri Maa Anandmai Marg South Bound  Shri Maa Anandmai Marg   \n",
              "\n",
              "2 direction  \n",
              "0      WEST  \n",
              "1      WEST  \n",
              "2      WEST  \n",
              "3     NORTH  \n",
              "4      EAST  \n",
              "5     SOUTH  \n",
              "6     SOUTH  "
            ],
            "text/html": [
              "\n",
              "  <div id=\"df-ab37ad48-e1b3-4c4f-b588-da3bfcdf290a\">\n",
              "    <div class=\"colab-df-container\">\n",
              "      <div>\n",
              "<style scoped>\n",
              "    .dataframe tbody tr th:only-of-type {\n",
              "        vertical-align: middle;\n",
              "    }\n",
              "\n",
              "    .dataframe tbody tr th {\n",
              "        vertical-align: top;\n",
              "    }\n",
              "\n",
              "    .dataframe thead th {\n",
              "        text-align: right;\n",
              "    }\n",
              "</style>\n",
              "<table border=\"1\" class=\"dataframe\">\n",
              "  <thead>\n",
              "    <tr style=\"text-align: right;\">\n",
              "      <th>2</th>\n",
              "      <th>id</th>\n",
              "      <th>name</th>\n",
              "      <th>roadName</th>\n",
              "      <th>direction</th>\n",
              "    </tr>\n",
              "  </thead>\n",
              "  <tbody>\n",
              "    <tr>\n",
              "      <th>0</th>\n",
              "      <td>-1789082902</td>\n",
              "      <td>West Bound</td>\n",
              "      <td>Unnamed road</td>\n",
              "      <td>WEST</td>\n",
              "    </tr>\n",
              "    <tr>\n",
              "      <th>1</th>\n",
              "      <td>800440149</td>\n",
              "      <td>Okhla Estate Marg West Bound</td>\n",
              "      <td>Okhla Estate Marg</td>\n",
              "      <td>WEST</td>\n",
              "    </tr>\n",
              "    <tr>\n",
              "      <th>2</th>\n",
              "      <td>398264603</td>\n",
              "      <td>West Bound</td>\n",
              "      <td>Unnamed road</td>\n",
              "      <td>WEST</td>\n",
              "    </tr>\n",
              "    <tr>\n",
              "      <th>3</th>\n",
              "      <td>-626246670</td>\n",
              "      <td>Shri Maa Anandmai Marg North Bound</td>\n",
              "      <td>Shri Maa Anandmai Marg</td>\n",
              "      <td>NORTH</td>\n",
              "    </tr>\n",
              "    <tr>\n",
              "      <th>4</th>\n",
              "      <td>593057788</td>\n",
              "      <td>Okhla Estate Marg East Bound</td>\n",
              "      <td>Okhla Estate Marg</td>\n",
              "      <td>EAST</td>\n",
              "    </tr>\n",
              "    <tr>\n",
              "      <th>5</th>\n",
              "      <td>1936751403</td>\n",
              "      <td>Maa Anand Mayee Marg South Bound</td>\n",
              "      <td>Maa Anand Mayee Marg</td>\n",
              "      <td>SOUTH</td>\n",
              "    </tr>\n",
              "    <tr>\n",
              "      <th>6</th>\n",
              "      <td>1220266539</td>\n",
              "      <td>Shri Maa Anandmai Marg South Bound</td>\n",
              "      <td>Shri Maa Anandmai Marg</td>\n",
              "      <td>SOUTH</td>\n",
              "    </tr>\n",
              "  </tbody>\n",
              "</table>\n",
              "</div>\n",
              "      <button class=\"colab-df-convert\" onclick=\"convertToInteractive('df-ab37ad48-e1b3-4c4f-b588-da3bfcdf290a')\"\n",
              "              title=\"Convert this dataframe to an interactive table.\"\n",
              "              style=\"display:none;\">\n",
              "        \n",
              "  <svg xmlns=\"http://www.w3.org/2000/svg\" height=\"24px\"viewBox=\"0 0 24 24\"\n",
              "       width=\"24px\">\n",
              "    <path d=\"M0 0h24v24H0V0z\" fill=\"none\"/>\n",
              "    <path d=\"M18.56 5.44l.94 2.06.94-2.06 2.06-.94-2.06-.94-.94-2.06-.94 2.06-2.06.94zm-11 1L8.5 8.5l.94-2.06 2.06-.94-2.06-.94L8.5 2.5l-.94 2.06-2.06.94zm10 10l.94 2.06.94-2.06 2.06-.94-2.06-.94-.94-2.06-.94 2.06-2.06.94z\"/><path d=\"M17.41 7.96l-1.37-1.37c-.4-.4-.92-.59-1.43-.59-.52 0-1.04.2-1.43.59L10.3 9.45l-7.72 7.72c-.78.78-.78 2.05 0 2.83L4 21.41c.39.39.9.59 1.41.59.51 0 1.02-.2 1.41-.59l7.78-7.78 2.81-2.81c.8-.78.8-2.07 0-2.86zM5.41 20L4 18.59l7.72-7.72 1.47 1.35L5.41 20z\"/>\n",
              "  </svg>\n",
              "      </button>\n",
              "      \n",
              "  <style>\n",
              "    .colab-df-container {\n",
              "      display:flex;\n",
              "      flex-wrap:wrap;\n",
              "      gap: 12px;\n",
              "    }\n",
              "\n",
              "    .colab-df-convert {\n",
              "      background-color: #E8F0FE;\n",
              "      border: none;\n",
              "      border-radius: 50%;\n",
              "      cursor: pointer;\n",
              "      display: none;\n",
              "      fill: #1967D2;\n",
              "      height: 32px;\n",
              "      padding: 0 0 0 0;\n",
              "      width: 32px;\n",
              "    }\n",
              "\n",
              "    .colab-df-convert:hover {\n",
              "      background-color: #E2EBFA;\n",
              "      box-shadow: 0px 1px 2px rgba(60, 64, 67, 0.3), 0px 1px 3px 1px rgba(60, 64, 67, 0.15);\n",
              "      fill: #174EA6;\n",
              "    }\n",
              "\n",
              "    [theme=dark] .colab-df-convert {\n",
              "      background-color: #3B4455;\n",
              "      fill: #D2E3FC;\n",
              "    }\n",
              "\n",
              "    [theme=dark] .colab-df-convert:hover {\n",
              "      background-color: #434B5C;\n",
              "      box-shadow: 0px 1px 3px 1px rgba(0, 0, 0, 0.15);\n",
              "      filter: drop-shadow(0px 1px 2px rgba(0, 0, 0, 0.3));\n",
              "      fill: #FFFFFF;\n",
              "    }\n",
              "  </style>\n",
              "\n",
              "      <script>\n",
              "        const buttonEl =\n",
              "          document.querySelector('#df-ab37ad48-e1b3-4c4f-b588-da3bfcdf290a button.colab-df-convert');\n",
              "        buttonEl.style.display =\n",
              "          google.colab.kernel.accessAllowed ? 'block' : 'none';\n",
              "\n",
              "        async function convertToInteractive(key) {\n",
              "          const element = document.querySelector('#df-ab37ad48-e1b3-4c4f-b588-da3bfcdf290a');\n",
              "          const dataTable =\n",
              "            await google.colab.kernel.invokeFunction('convertToInteractive',\n",
              "                                                     [key], {});\n",
              "          if (!dataTable) return;\n",
              "\n",
              "          const docLinkHtml = 'Like what you see? Visit the ' +\n",
              "            '<a target=\"_blank\" href=https://colab.research.google.com/notebooks/data_table.ipynb>data table notebook</a>'\n",
              "            + ' to learn more about interactive tables.';\n",
              "          element.innerHTML = '';\n",
              "          dataTable['output_type'] = 'display_data';\n",
              "          await google.colab.output.renderOutput(dataTable, element);\n",
              "          const docLink = document.createElement('div');\n",
              "          docLink.innerHTML = docLinkHtml;\n",
              "          element.appendChild(docLink);\n",
              "        }\n",
              "      </script>\n",
              "    </div>\n",
              "  </div>\n",
              "  "
            ]
          },
          "metadata": {},
          "execution_count": 137
        }
      ]
    },
    {
      "cell_type": "code",
      "source": [
        "print(df_exit.columns)\n",
        "df_exit"
      ],
      "metadata": {
        "colab": {
          "base_uri": "https://localhost:8080/",
          "height": 286
        },
        "id": "BxA4TZOwysrw",
        "outputId": "60afbdb0-59d8-4f18-aa97-3be25d467ad8"
      },
      "execution_count": null,
      "outputs": [
        {
          "output_type": "stream",
          "name": "stdout",
          "text": [
            "Index(['name', 'roadName', 'direction', 'frc'], dtype='object', name=11)\n"
          ]
        },
        {
          "output_type": "execute_result",
          "data": {
            "text/plain": [
              "11                                name                roadName direction frc\n",
              "0                           East Bound            Unnamed road      EAST   7\n",
              "1         Okhla Estate Marg East Bound       Okhla Estate Marg      EAST   3\n",
              "2                           East Bound            Unnamed road      EAST   7\n",
              "3   Shri Maa Anandmai Marg South Bound  Shri Maa Anandmai Marg     SOUTH   3\n",
              "4         Okhla Estate Marg West Bound       Okhla Estate Marg      WEST   3\n",
              "5     Maa Anand Mayee Marg North Bound    Maa Anand Mayee Marg     NORTH   7\n",
              "6   Shri Maa Anandmai Marg North Bound  Shri Maa Anandmai Marg     NORTH   3"
            ],
            "text/html": [
              "\n",
              "  <div id=\"df-840cd969-ea96-4d8d-9d47-0dac2d87fa7f\">\n",
              "    <div class=\"colab-df-container\">\n",
              "      <div>\n",
              "<style scoped>\n",
              "    .dataframe tbody tr th:only-of-type {\n",
              "        vertical-align: middle;\n",
              "    }\n",
              "\n",
              "    .dataframe tbody tr th {\n",
              "        vertical-align: top;\n",
              "    }\n",
              "\n",
              "    .dataframe thead th {\n",
              "        text-align: right;\n",
              "    }\n",
              "</style>\n",
              "<table border=\"1\" class=\"dataframe\">\n",
              "  <thead>\n",
              "    <tr style=\"text-align: right;\">\n",
              "      <th>11</th>\n",
              "      <th>name</th>\n",
              "      <th>roadName</th>\n",
              "      <th>direction</th>\n",
              "      <th>frc</th>\n",
              "    </tr>\n",
              "  </thead>\n",
              "  <tbody>\n",
              "    <tr>\n",
              "      <th>0</th>\n",
              "      <td>East Bound</td>\n",
              "      <td>Unnamed road</td>\n",
              "      <td>EAST</td>\n",
              "      <td>7</td>\n",
              "    </tr>\n",
              "    <tr>\n",
              "      <th>1</th>\n",
              "      <td>Okhla Estate Marg East Bound</td>\n",
              "      <td>Okhla Estate Marg</td>\n",
              "      <td>EAST</td>\n",
              "      <td>3</td>\n",
              "    </tr>\n",
              "    <tr>\n",
              "      <th>2</th>\n",
              "      <td>East Bound</td>\n",
              "      <td>Unnamed road</td>\n",
              "      <td>EAST</td>\n",
              "      <td>7</td>\n",
              "    </tr>\n",
              "    <tr>\n",
              "      <th>3</th>\n",
              "      <td>Shri Maa Anandmai Marg South Bound</td>\n",
              "      <td>Shri Maa Anandmai Marg</td>\n",
              "      <td>SOUTH</td>\n",
              "      <td>3</td>\n",
              "    </tr>\n",
              "    <tr>\n",
              "      <th>4</th>\n",
              "      <td>Okhla Estate Marg West Bound</td>\n",
              "      <td>Okhla Estate Marg</td>\n",
              "      <td>WEST</td>\n",
              "      <td>3</td>\n",
              "    </tr>\n",
              "    <tr>\n",
              "      <th>5</th>\n",
              "      <td>Maa Anand Mayee Marg North Bound</td>\n",
              "      <td>Maa Anand Mayee Marg</td>\n",
              "      <td>NORTH</td>\n",
              "      <td>7</td>\n",
              "    </tr>\n",
              "    <tr>\n",
              "      <th>6</th>\n",
              "      <td>Shri Maa Anandmai Marg North Bound</td>\n",
              "      <td>Shri Maa Anandmai Marg</td>\n",
              "      <td>NORTH</td>\n",
              "      <td>3</td>\n",
              "    </tr>\n",
              "  </tbody>\n",
              "</table>\n",
              "</div>\n",
              "      <button class=\"colab-df-convert\" onclick=\"convertToInteractive('df-840cd969-ea96-4d8d-9d47-0dac2d87fa7f')\"\n",
              "              title=\"Convert this dataframe to an interactive table.\"\n",
              "              style=\"display:none;\">\n",
              "        \n",
              "  <svg xmlns=\"http://www.w3.org/2000/svg\" height=\"24px\"viewBox=\"0 0 24 24\"\n",
              "       width=\"24px\">\n",
              "    <path d=\"M0 0h24v24H0V0z\" fill=\"none\"/>\n",
              "    <path d=\"M18.56 5.44l.94 2.06.94-2.06 2.06-.94-2.06-.94-.94-2.06-.94 2.06-2.06.94zm-11 1L8.5 8.5l.94-2.06 2.06-.94-2.06-.94L8.5 2.5l-.94 2.06-2.06.94zm10 10l.94 2.06.94-2.06 2.06-.94-2.06-.94-.94-2.06-.94 2.06-2.06.94z\"/><path d=\"M17.41 7.96l-1.37-1.37c-.4-.4-.92-.59-1.43-.59-.52 0-1.04.2-1.43.59L10.3 9.45l-7.72 7.72c-.78.78-.78 2.05 0 2.83L4 21.41c.39.39.9.59 1.41.59.51 0 1.02-.2 1.41-.59l7.78-7.78 2.81-2.81c.8-.78.8-2.07 0-2.86zM5.41 20L4 18.59l7.72-7.72 1.47 1.35L5.41 20z\"/>\n",
              "  </svg>\n",
              "      </button>\n",
              "      \n",
              "  <style>\n",
              "    .colab-df-container {\n",
              "      display:flex;\n",
              "      flex-wrap:wrap;\n",
              "      gap: 12px;\n",
              "    }\n",
              "\n",
              "    .colab-df-convert {\n",
              "      background-color: #E8F0FE;\n",
              "      border: none;\n",
              "      border-radius: 50%;\n",
              "      cursor: pointer;\n",
              "      display: none;\n",
              "      fill: #1967D2;\n",
              "      height: 32px;\n",
              "      padding: 0 0 0 0;\n",
              "      width: 32px;\n",
              "    }\n",
              "\n",
              "    .colab-df-convert:hover {\n",
              "      background-color: #E2EBFA;\n",
              "      box-shadow: 0px 1px 2px rgba(60, 64, 67, 0.3), 0px 1px 3px 1px rgba(60, 64, 67, 0.15);\n",
              "      fill: #174EA6;\n",
              "    }\n",
              "\n",
              "    [theme=dark] .colab-df-convert {\n",
              "      background-color: #3B4455;\n",
              "      fill: #D2E3FC;\n",
              "    }\n",
              "\n",
              "    [theme=dark] .colab-df-convert:hover {\n",
              "      background-color: #434B5C;\n",
              "      box-shadow: 0px 1px 3px 1px rgba(0, 0, 0, 0.15);\n",
              "      filter: drop-shadow(0px 1px 2px rgba(0, 0, 0, 0.3));\n",
              "      fill: #FFFFFF;\n",
              "    }\n",
              "  </style>\n",
              "\n",
              "      <script>\n",
              "        const buttonEl =\n",
              "          document.querySelector('#df-840cd969-ea96-4d8d-9d47-0dac2d87fa7f button.colab-df-convert');\n",
              "        buttonEl.style.display =\n",
              "          google.colab.kernel.accessAllowed ? 'block' : 'none';\n",
              "\n",
              "        async function convertToInteractive(key) {\n",
              "          const element = document.querySelector('#df-840cd969-ea96-4d8d-9d47-0dac2d87fa7f');\n",
              "          const dataTable =\n",
              "            await google.colab.kernel.invokeFunction('convertToInteractive',\n",
              "                                                     [key], {});\n",
              "          if (!dataTable) return;\n",
              "\n",
              "          const docLinkHtml = 'Like what you see? Visit the ' +\n",
              "            '<a target=\"_blank\" href=https://colab.research.google.com/notebooks/data_table.ipynb>data table notebook</a>'\n",
              "            + ' to learn more about interactive tables.';\n",
              "          element.innerHTML = '';\n",
              "          dataTable['output_type'] = 'display_data';\n",
              "          await google.colab.output.renderOutput(dataTable, element);\n",
              "          const docLink = document.createElement('div');\n",
              "          docLink.innerHTML = docLinkHtml;\n",
              "          element.appendChild(docLink);\n",
              "        }\n",
              "      </script>\n",
              "    </div>\n",
              "  </div>\n",
              "  "
            ]
          },
          "metadata": {},
          "execution_count": 138
        }
      ]
    },
    {
      "cell_type": "code",
      "source": [
        "column_name=\"direction\"\n",
        "cols=df_entry.columns\n",
        "column_index_entry= cols.get_loc(column_name)\n",
        "column_index_entry"
      ],
      "metadata": {
        "colab": {
          "base_uri": "https://localhost:8080/"
        },
        "id": "kUn2naR3bgK1",
        "outputId": "cecabeb1-4f06-4b11-8160-0f11d0ff4552"
      },
      "execution_count": null,
      "outputs": [
        {
          "output_type": "execute_result",
          "data": {
            "text/plain": [
              "3"
            ]
          },
          "metadata": {},
          "execution_count": 139
        }
      ]
    },
    {
      "cell_type": "code",
      "source": [
        "column_name=\"direction\"\n",
        "cols=df_exit.columns\n",
        "column_index_exit=cols.get_loc(column_name)\n",
        "column_index_exit"
      ],
      "metadata": {
        "colab": {
          "base_uri": "https://localhost:8080/"
        },
        "id": "EUWDkIcNfXsK",
        "outputId": "7305c896-0a24-47c2-cd62-81e02b471287"
      },
      "execution_count": null,
      "outputs": [
        {
          "output_type": "execute_result",
          "data": {
            "text/plain": [
              "2"
            ]
          },
          "metadata": {},
          "execution_count": 140
        }
      ]
    },
    {
      "cell_type": "code",
      "source": [
        "type(df_entry.iloc[0,3])"
      ],
      "metadata": {
        "colab": {
          "base_uri": "https://localhost:8080/"
        },
        "id": "XXHOIsXVdr8O",
        "outputId": "50fdb614-a7c8-4393-ef61-b22a7bfe3f2c"
      },
      "execution_count": null,
      "outputs": [
        {
          "output_type": "execute_result",
          "data": {
            "text/plain": [
              "str"
            ]
          },
          "metadata": {},
          "execution_count": 141
        }
      ]
    },
    {
      "cell_type": "code",
      "source": [
        "import numpy as np\n",
        "numvehicles=[]\n",
        "# print(len(total.axes[0]))\n",
        "# print(len(total.axes[1]))\n",
        "for i in range (0,len(total.axes[0])):\n",
        "  directionarr=[]\n",
        "  row_entry_ind=i\n",
        "  for k in range(0, len(df_entry.axes[0])):\n",
        "    # print(k)\n",
        "    # print(total.index[i], df_entry.iloc[k,0])\n",
        "    # assert int(df_entry.iloc[k,0])==int(total.index[i])\n",
        "    if (int(df_entry.iloc[k,0])==int(total.index[i])):\n",
        "      row_entry_ind=k\n",
        "      # print(\"entered\", int(df_entry.iloc[k,0])==int(total.index[i]))\n",
        "      # print(k)\n",
        "      break\n",
        "  for j in range (0, len(df_exit.axes[0])):\n",
        "    temp= df_entry.iloc[row_entry_ind,column_index_entry]+\" TO \"+df_exit.iloc[j,column_index_exit]\n",
        "    directionarr.append(temp)\n",
        "  numvehicles.append(directionarr)  \n",
        "  numvehicles.append(fvehicleratios(i, total))\n",
        "numvehiclesarr=np.array(numvehicles)\n",
        "numvehiclesarr.reshape(8,7)"
      ],
      "metadata": {
        "colab": {
          "base_uri": "https://localhost:8080/"
        },
        "id": "n8p6CiJjLTdt",
        "outputId": "c77f1de5-c00a-4c1b-f8b6-b44fa468adfd"
      },
      "execution_count": null,
      "outputs": [
        {
          "output_type": "execute_result",
          "data": {
            "text/plain": [
              "array([['NORTH TO EAST', 'NORTH TO EAST', 'NORTH TO EAST',\n",
              "        'NORTH TO SOUTH', 'NORTH TO WEST', 'NORTH TO NORTH',\n",
              "        'NORTH TO NORTH'],\n",
              "       ['7.309486780715396', '0.0', '0.9331259720062209',\n",
              "        '36.70295489891136', '0.0', '55.05443234836703', '0.0'],\n",
              "       ['EAST TO EAST', 'EAST TO EAST', 'EAST TO EAST', 'EAST TO SOUTH',\n",
              "        'EAST TO WEST', 'EAST TO NORTH', 'EAST TO NORTH'],\n",
              "       ['10.0', '0.0', '30.0', '0.0', '0.0', '60.0', '0.0'],\n",
              "       ['WEST TO EAST', 'WEST TO EAST', 'WEST TO EAST', 'WEST TO SOUTH',\n",
              "        'WEST TO WEST', 'WEST TO NORTH', 'WEST TO NORTH'],\n",
              "       ['3.2335329341317367', '6.706586826347305', '19.40119760479042',\n",
              "        '28.263473053892213', '0.0', '42.39520958083832', '0.0'],\n",
              "       ['SOUTH TO EAST', 'SOUTH TO EAST', 'SOUTH TO EAST',\n",
              "        'SOUTH TO SOUTH', 'SOUTH TO WEST', 'SOUTH TO NORTH',\n",
              "        'SOUTH TO NORTH'],\n",
              "       ['25.0', '0.0', '75.0', '0.0', '0.0', '0.0', '0.0']], dtype='<U32')"
            ]
          },
          "metadata": {},
          "execution_count": 146
        }
      ]
    },
    {
      "cell_type": "code",
      "source": [],
      "metadata": {
        "id": "BapTcHLNWbjE"
      },
      "execution_count": null,
      "outputs": []
    },
    {
      "cell_type": "code",
      "source": [
        "# df_new = pd.DataFrame(columns = [\"Entry Name\", \"Exit Name\", \"Entry Direction\", \"Exit Direction\", \"Number of Vehicles\"])\n",
        "# for name_en, dir_en in df_entry[[\"name\", \"direction\"]]:\n",
        "#   for name_ex, dir_ex in df_exit[[\"name\", \"direction\"]]:\n",
        "#     # number_of_vehicles = \n",
        "#     new_row = {\n",
        "#         \"Entry Name\": name_en,\n",
        "#         \"Exit Name\": name_ex,\n",
        "#         \"Entry Direction\": dir_en, \n",
        "#         \"Exit Direction\": dir_ex, \n",
        "#         \"Number of Vehicles\": 0 #number_of_vehicles\n",
        "#         }\n",
        "#     df_new = df_new.append(new_row, ignore_index=True)"
      ],
      "metadata": {
        "id": "kr0PHQCg1RRn"
      },
      "execution_count": null,
      "outputs": []
    },
    {
      "cell_type": "code",
      "source": [],
      "metadata": {
        "id": "5M85tpe0KdF5"
      },
      "execution_count": null,
      "outputs": []
    }
  ],
  "metadata": {
    "colab": {
      "provenance": []
    },
    "kernelspec": {
      "display_name": "Python 3",
      "name": "python3"
    },
    "language_info": {
      "name": "python"
    }
  },
  "nbformat": 4,
  "nbformat_minor": 0
}